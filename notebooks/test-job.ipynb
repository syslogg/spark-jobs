{
 "cells": [
  {
   "cell_type": "code",
   "execution_count": 1,
   "metadata": {},
   "outputs": [
    {
     "output_type": "execute_result",
     "data": {
      "text/plain": [
       "'2.4.7'"
      ]
     },
     "metadata": {},
     "execution_count": 1
    }
   ],
   "source": [
    "# Import findspark \n",
    "import os\n",
    "os.environ['SPARK_MASTER_OPTS'] = \"-Dspark.deploy.defaultCores=4\"\n",
    "import findspark\n",
    "\n",
    "findspark.init()\n",
    "\n",
    "from pyspark.sql import SparkSession\n",
    "from pyspark.sql.functions import col\n",
    "findspark.find()\n",
    "import pyspark\n",
    "pyspark.__version__\n",
    "#import pandas as pd\n"
   ]
  },
  {
   "cell_type": "code",
   "execution_count": 2,
   "metadata": {},
   "outputs": [],
   "source": [
    "\n",
    "spark = SparkSession.builder \\\n",
    "        .appName('Test Job') \\\n",
    "        .master(\"spark://localhost:7077\") \\\n",
    "        .getOrCreate()"
   ]
  },
  {
   "cell_type": "code",
   "execution_count": null,
   "metadata": {},
   "outputs": [],
   "source": [
    "#rdd = spark.sparkContext.textFile(\"datasources/consumo_petroleo_2020.csv\").filter(lambda x: x.split(',')[0] != 'REGIAO')\n",
    "df = spark.read \\\n",
    "       .option(\"sep\", \",\") \\\n",
    "       .option(\"header\", True) \\\n",
    "       .option(\"inferSchema\", True) \\\n",
    "       .csv(\"../datasources/consumo_petroleo_2020.csv\")"
   ]
  },
  {
   "cell_type": "code",
   "execution_count": null,
   "metadata": {},
   "outputs": [],
   "source": []
  },
  {
   "cell_type": "code",
   "execution_count": null,
   "metadata": {},
   "outputs": [],
   "source": [
    "df = df.withColumn(\"new_column\", (df.CONSUMO + df.CONSUMO_DECIMAL)/2)"
   ]
  },
  {
   "cell_type": "code",
   "execution_count": null,
   "metadata": {},
   "outputs": [],
   "source": [
    "df.filter(\"REGIAO = 'America do Norte' AND PAIS = 'Canada'\").collect()"
   ]
  },
  {
   "cell_type": "code",
   "execution_count": null,
   "metadata": {},
   "outputs": [],
   "source": [
    "df.groupBy(\"PAIS\").avg().collect()"
   ]
  },
  {
   "cell_type": "code",
   "execution_count": null,
   "metadata": {},
   "outputs": [],
   "source": [
    "#words = spark.sparkContext.parallelize(inputData) \\\n",
    "#                          .flatMap(lambda value: value.split(\" \")) \\\n",
    "#                          .filter(lambda word: len(word) > 1)\n",
    "#type(words)"
   ]
  },
  {
   "cell_type": "code",
   "execution_count": null,
   "metadata": {},
   "outputs": [],
   "source": [
    "#rdd2 = rdd.map(lambda x: (x.split(',')[0], x.split(',')[1])) \\\n",
    "#          .map(lambda x: (x[0], x[1])) \\\n",
    "#          .reduceByKey(lambda x, y: x+y)"
   ]
  },
  {
   "cell_type": "code",
   "execution_count": null,
   "metadata": {},
   "outputs": [],
   "source": [
    "#rdd2.collect()"
   ]
  },
  {
   "cell_type": "code",
   "execution_count": null,
   "metadata": {},
   "outputs": [],
   "source": [
    "import pandas as pd\n",
    "pd.read_csv(\"datasources/consumo_petroleo_2020.csv\")"
   ]
  },
  {
   "cell_type": "code",
   "execution_count": null,
   "metadata": {},
   "outputs": [],
   "source": []
  }
 ],
 "metadata": {
  "kernelspec": {
   "name": "python375jvsc74a57bd0dd91309247378d9e9b81de9d22e945da349ae7ad4ed225aaee72ff0365ee77c5",
   "display_name": "Python 3.7.5 64-bit ('spark_python': conda)"
  },
  "language_info": {
   "codemirror_mode": {
    "name": "ipython",
    "version": 3
   },
   "file_extension": ".py",
   "mimetype": "text/x-python",
   "name": "python",
   "nbconvert_exporter": "python",
   "pygments_lexer": "ipython3",
   "version": "3.7.5"
  }
 },
 "nbformat": 4,
 "nbformat_minor": 4
}