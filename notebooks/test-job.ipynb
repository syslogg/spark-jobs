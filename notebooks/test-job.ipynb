{
 "cells": [
  {
   "cell_type": "code",
   "execution_count": 62,
   "metadata": {},
   "outputs": [],
   "source": [
    "# Import findspark \n",
    "import findspark\n",
    "\n",
    "findspark.init()\n",
    "\n",
    "from pyspark.sql import SparkSession\n",
    "from pyspark.sql.functions import col"
   ]
  },
  {
   "cell_type": "code",
   "execution_count": 63,
   "metadata": {},
   "outputs": [],
   "source": [
    "spark = SparkSession.builder.getOrCreate()"
   ]
  },
  {
   "cell_type": "code",
   "execution_count": 64,
   "metadata": {},
   "outputs": [],
   "source": [
    "rdd = spark.sparkContext.textFile(\"datasources/consumo_petroleo_2020.csv\").filter(lambda x: x.split(',')[0] != 'REGIAO')\n",
    "df = spark.read \\\n",
    "       .option(\"sep\", \",\") \\\n",
    "       .option(\"header\", True) \\\n",
    "       .option(\"inferSchema\", True) \\\n",
    "       .csv(\"datasources/consumo_petroleo_2020.csv\")"
   ]
  },
  {
   "cell_type": "code",
   "execution_count": 65,
   "metadata": {},
   "outputs": [
    {
     "data": {
      "text/plain": [
       "Column<'REGIAO'>"
      ]
     },
     "execution_count": 65,
     "metadata": {},
     "output_type": "execute_result"
    }
   ],
   "source": [
    "df.REGIAO"
   ]
  },
  {
   "cell_type": "code",
   "execution_count": 66,
   "metadata": {},
   "outputs": [],
   "source": [
    "df = df.withColumn(\"new_column\", (df.CONSUMO + df.CONSUMO_DECIMAL)/2)"
   ]
  },
  {
   "cell_type": "code",
   "execution_count": 69,
   "metadata": {},
   "outputs": [
    {
     "data": {
      "text/plain": [
       "[Row(REGIAO='America do Norte', PAIS='Canada', CONSUMO=2332, CONSUMO_DECIMAL=643509, ANO=2010, new_column=322920.5),\n",
       " Row(REGIAO='America do Norte', PAIS='Canada', CONSUMO=2396, CONSUMO_DECIMAL=54876, ANO=2011, new_column=28636.0),\n",
       " Row(REGIAO='America do Norte', PAIS='Canada', CONSUMO=2329, CONSUMO_DECIMAL=517932, ANO=2012, new_column=260130.5),\n",
       " Row(REGIAO='America do Norte', PAIS='Canada', CONSUMO=2345, CONSUMO_DECIMAL=336638, ANO=2013, new_column=169491.5),\n",
       " Row(REGIAO='America do Norte', PAIS='Canada', CONSUMO=2386, CONSUMO_DECIMAL=792135, ANO=2014, new_column=397260.5),\n",
       " Row(REGIAO='America do Norte', PAIS='Canada', CONSUMO=2346, CONSUMO_DECIMAL=753193, ANO=2015, new_column=377769.5),\n",
       " Row(REGIAO='America do Norte', PAIS='Canada', CONSUMO=2393, CONSUMO_DECIMAL=32596, ANO=2016, new_column=17494.5),\n",
       " Row(REGIAO='America do Norte', PAIS='Canada', CONSUMO=2393, CONSUMO_DECIMAL=7348, ANO=2017, new_column=4870.5),\n",
       " Row(REGIAO='America do Norte', PAIS='Canada', CONSUMO=2443, CONSUMO_DECIMAL=311147, ANO=2018, new_column=156795.0),\n",
       " Row(REGIAO='America do Norte', PAIS='Canada', CONSUMO=2402, CONSUMO_DECIMAL=541314, ANO=2019, new_column=271858.0)]"
      ]
     },
     "execution_count": 69,
     "metadata": {},
     "output_type": "execute_result"
    }
   ],
   "source": [
    "df.filter(\"REGIAO = 'America do Norte' AND PAIS = 'Canada'\").collect()"
   ]
  },
  {
   "cell_type": "code",
   "execution_count": 73,
   "metadata": {},
   "outputs": [
    {
     "data": {
      "text/html": [
       "<div>\n",
       "<style scoped>\n",
       "    .dataframe tbody tr th:only-of-type {\n",
       "        vertical-align: middle;\n",
       "    }\n",
       "\n",
       "    .dataframe tbody tr th {\n",
       "        vertical-align: top;\n",
       "    }\n",
       "\n",
       "    .dataframe thead th {\n",
       "        text-align: right;\n",
       "    }\n",
       "</style>\n",
       "<table border=\"1\" class=\"dataframe\">\n",
       "  <thead>\n",
       "    <tr style=\"text-align: right;\">\n",
       "      <th></th>\n",
       "      <th>PAIS</th>\n",
       "      <th>avg(CONSUMO)</th>\n",
       "      <th>avg(CONSUMO_DECIMAL)</th>\n",
       "      <th>avg(ANO)</th>\n",
       "      <th>avg(new_column)</th>\n",
       "    </tr>\n",
       "  </thead>\n",
       "  <tbody>\n",
       "    <tr>\n",
       "      <th>0</th>\n",
       "      <td>Luxemburgo</td>\n",
       "      <td>57.0</td>\n",
       "      <td>48485320.2</td>\n",
       "      <td>2014.5</td>\n",
       "      <td>24242688.60</td>\n",
       "    </tr>\n",
       "    <tr>\n",
       "      <th>1</th>\n",
       "      <td>Russia</td>\n",
       "      <td>3165.1</td>\n",
       "      <td>578840.9</td>\n",
       "      <td>2014.5</td>\n",
       "      <td>291003.00</td>\n",
       "    </tr>\n",
       "    <tr>\n",
       "      <th>2</th>\n",
       "      <td>Marrocos</td>\n",
       "      <td>277.1</td>\n",
       "      <td>5102785.0</td>\n",
       "      <td>2014.5</td>\n",
       "      <td>2551531.05</td>\n",
       "    </tr>\n",
       "    <tr>\n",
       "      <th>3</th>\n",
       "      <td>Cingapura</td>\n",
       "      <td>1297.9</td>\n",
       "      <td>532948.9</td>\n",
       "      <td>2014.5</td>\n",
       "      <td>267123.40</td>\n",
       "    </tr>\n",
       "    <tr>\n",
       "      <th>4</th>\n",
       "      <td>Belgica</td>\n",
       "      <td>667.8</td>\n",
       "      <td>4198617.5</td>\n",
       "      <td>2014.5</td>\n",
       "      <td>2099642.65</td>\n",
       "    </tr>\n",
       "    <tr>\n",
       "      <th>...</th>\n",
       "      <td>...</td>\n",
       "      <td>...</td>\n",
       "      <td>...</td>\n",
       "      <td>...</td>\n",
       "      <td>...</td>\n",
       "    </tr>\n",
       "    <tr>\n",
       "      <th>80</th>\n",
       "      <td>Suica</td>\n",
       "      <td>226.8</td>\n",
       "      <td>4283310.9</td>\n",
       "      <td>2014.5</td>\n",
       "      <td>2141768.85</td>\n",
       "    </tr>\n",
       "    <tr>\n",
       "      <th>81</th>\n",
       "      <td>Suecia</td>\n",
       "      <td>289.3</td>\n",
       "      <td>5027965.6</td>\n",
       "      <td>2014.5</td>\n",
       "      <td>2514127.45</td>\n",
       "    </tr>\n",
       "    <tr>\n",
       "      <th>82</th>\n",
       "      <td>Ucrania</td>\n",
       "      <td>231.7</td>\n",
       "      <td>3517153.4</td>\n",
       "      <td>2014.5</td>\n",
       "      <td>1758692.55</td>\n",
       "    </tr>\n",
       "    <tr>\n",
       "      <th>83</th>\n",
       "      <td>Malasia</td>\n",
       "      <td>780.0</td>\n",
       "      <td>5248215.3</td>\n",
       "      <td>2014.5</td>\n",
       "      <td>2624497.65</td>\n",
       "    </tr>\n",
       "    <tr>\n",
       "      <th>84</th>\n",
       "      <td>Argelia</td>\n",
       "      <td>394.4</td>\n",
       "      <td>5421275.0</td>\n",
       "      <td>2014.5</td>\n",
       "      <td>2710834.70</td>\n",
       "    </tr>\n",
       "  </tbody>\n",
       "</table>\n",
       "<p>85 rows × 5 columns</p>\n",
       "</div>"
      ],
      "text/plain": [
       "          PAIS  avg(CONSUMO)  avg(CONSUMO_DECIMAL)  avg(ANO)  avg(new_column)\n",
       "0   Luxemburgo          57.0            48485320.2    2014.5      24242688.60\n",
       "1       Russia        3165.1              578840.9    2014.5        291003.00\n",
       "2     Marrocos         277.1             5102785.0    2014.5       2551531.05\n",
       "3    Cingapura        1297.9              532948.9    2014.5        267123.40\n",
       "4      Belgica         667.8             4198617.5    2014.5       2099642.65\n",
       "..         ...           ...                   ...       ...              ...\n",
       "80       Suica         226.8             4283310.9    2014.5       2141768.85\n",
       "81      Suecia         289.3             5027965.6    2014.5       2514127.45\n",
       "82     Ucrania         231.7             3517153.4    2014.5       1758692.55\n",
       "83     Malasia         780.0             5248215.3    2014.5       2624497.65\n",
       "84     Argelia         394.4             5421275.0    2014.5       2710834.70\n",
       "\n",
       "[85 rows x 5 columns]"
      ]
     },
     "execution_count": 73,
     "metadata": {},
     "output_type": "execute_result"
    }
   ],
   "source": [
    "df.groupBy(\"PAIS\").avg().toPandas()"
   ]
  },
  {
   "cell_type": "code",
   "execution_count": 16,
   "metadata": {},
   "outputs": [],
   "source": [
    "#words = spark.sparkContext.parallelize(inputData) \\\n",
    "#                          .flatMap(lambda value: value.split(\" \")) \\\n",
    "#                          .filter(lambda word: len(word) > 1)\n",
    "#type(words)"
   ]
  },
  {
   "cell_type": "code",
   "execution_count": 17,
   "metadata": {},
   "outputs": [],
   "source": [
    "#rdd2 = rdd.map(lambda x: (x.split(',')[0], x.split(',')[1])) \\\n",
    "#          .map(lambda x: (x[0], x[1])) \\\n",
    "#          .reduceByKey(lambda x, y: x+y)"
   ]
  },
  {
   "cell_type": "code",
   "execution_count": 18,
   "metadata": {},
   "outputs": [],
   "source": [
    "#rdd2.collect()"
   ]
  },
  {
   "cell_type": "code",
   "execution_count": 7,
   "metadata": {},
   "outputs": [
    {
     "data": {
      "text/html": [
       "<div>\n",
       "<style scoped>\n",
       "    .dataframe tbody tr th:only-of-type {\n",
       "        vertical-align: middle;\n",
       "    }\n",
       "\n",
       "    .dataframe tbody tr th {\n",
       "        vertical-align: top;\n",
       "    }\n",
       "\n",
       "    .dataframe thead th {\n",
       "        text-align: right;\n",
       "    }\n",
       "</style>\n",
       "<table border=\"1\" class=\"dataframe\">\n",
       "  <thead>\n",
       "    <tr style=\"text-align: right;\">\n",
       "      <th></th>\n",
       "      <th>REGIAO</th>\n",
       "      <th>PAIS</th>\n",
       "      <th>CONSUMO</th>\n",
       "      <th>CONSUMO_DECIMAL</th>\n",
       "      <th>ANO</th>\n",
       "    </tr>\n",
       "  </thead>\n",
       "  <tbody>\n",
       "    <tr>\n",
       "      <th>0</th>\n",
       "      <td>America do Norte</td>\n",
       "      <td>Canada</td>\n",
       "      <td>2332</td>\n",
       "      <td>643509</td>\n",
       "      <td>2010</td>\n",
       "    </tr>\n",
       "    <tr>\n",
       "      <th>1</th>\n",
       "      <td>America do Norte</td>\n",
       "      <td>Estados Unidos</td>\n",
       "      <td>18324</td>\n",
       "      <td>38372</td>\n",
       "      <td>2010</td>\n",
       "    </tr>\n",
       "    <tr>\n",
       "      <th>2</th>\n",
       "      <td>America do Norte</td>\n",
       "      <td>Mexico</td>\n",
       "      <td>2039</td>\n",
       "      <td>738801</td>\n",
       "      <td>2010</td>\n",
       "    </tr>\n",
       "    <tr>\n",
       "      <th>3</th>\n",
       "      <td>Americas Central e do Sul</td>\n",
       "      <td>Argentina</td>\n",
       "      <td>581</td>\n",
       "      <td>8054948</td>\n",
       "      <td>2010</td>\n",
       "    </tr>\n",
       "    <tr>\n",
       "      <th>4</th>\n",
       "      <td>Americas Central e do Sul</td>\n",
       "      <td>Brasil</td>\n",
       "      <td>2271</td>\n",
       "      <td>41358</td>\n",
       "      <td>2010</td>\n",
       "    </tr>\n",
       "    <tr>\n",
       "      <th>...</th>\n",
       "      <td>...</td>\n",
       "      <td>...</td>\n",
       "      <td>...</td>\n",
       "      <td>...</td>\n",
       "      <td>...</td>\n",
       "    </tr>\n",
       "    <tr>\n",
       "      <th>885</th>\n",
       "      <td>Asia-Pacifico</td>\n",
       "      <td>Sri Lanka</td>\n",
       "      <td>122</td>\n",
       "      <td>6157392</td>\n",
       "      <td>2019</td>\n",
       "    </tr>\n",
       "    <tr>\n",
       "      <th>886</th>\n",
       "      <td>Asia-Pacifico</td>\n",
       "      <td>Tailandia</td>\n",
       "      <td>1453</td>\n",
       "      <td>2886</td>\n",
       "      <td>2019</td>\n",
       "    </tr>\n",
       "    <tr>\n",
       "      <th>887</th>\n",
       "      <td>Asia-Pacifico</td>\n",
       "      <td>Taiwan</td>\n",
       "      <td>998</td>\n",
       "      <td>102776</td>\n",
       "      <td>2019</td>\n",
       "    </tr>\n",
       "    <tr>\n",
       "      <th>888</th>\n",
       "      <td>Asia-Pacifico</td>\n",
       "      <td>Vietna</td>\n",
       "      <td>528</td>\n",
       "      <td>4574961</td>\n",
       "      <td>2019</td>\n",
       "    </tr>\n",
       "    <tr>\n",
       "      <th>889</th>\n",
       "      <td>Asia-Pacifico</td>\n",
       "      <td>Outros</td>\n",
       "      <td>506</td>\n",
       "      <td>3716179</td>\n",
       "      <td>2019</td>\n",
       "    </tr>\n",
       "  </tbody>\n",
       "</table>\n",
       "<p>890 rows × 5 columns</p>\n",
       "</div>"
      ],
      "text/plain": [
       "                        REGIAO            PAIS  CONSUMO  CONSUMO_DECIMAL   ANO\n",
       "0             America do Norte          Canada     2332           643509  2010\n",
       "1             America do Norte  Estados Unidos    18324            38372  2010\n",
       "2             America do Norte          Mexico     2039           738801  2010\n",
       "3    Americas Central e do Sul       Argentina      581          8054948  2010\n",
       "4    Americas Central e do Sul          Brasil     2271            41358  2010\n",
       "..                         ...             ...      ...              ...   ...\n",
       "885              Asia-Pacifico       Sri Lanka      122          6157392  2019\n",
       "886              Asia-Pacifico       Tailandia     1453             2886  2019\n",
       "887              Asia-Pacifico          Taiwan      998           102776  2019\n",
       "888              Asia-Pacifico          Vietna      528          4574961  2019\n",
       "889              Asia-Pacifico          Outros      506          3716179  2019\n",
       "\n",
       "[890 rows x 5 columns]"
      ]
     },
     "execution_count": 7,
     "metadata": {},
     "output_type": "execute_result"
    }
   ],
   "source": [
    "import pandas as pd\n",
    "pd.read_csv(\"datasources/consumo_petroleo_2020.csv\")"
   ]
  },
  {
   "cell_type": "code",
   "execution_count": null,
   "metadata": {},
   "outputs": [],
   "source": []
  }
 ],
 "metadata": {
  "kernelspec": {
   "display_name": "Python 3",
   "language": "python",
   "name": "python3"
  },
  "language_info": {
   "codemirror_mode": {
    "name": "ipython",
    "version": 3
   },
   "file_extension": ".py",
   "mimetype": "text/x-python",
   "name": "python",
   "nbconvert_exporter": "python",
   "pygments_lexer": "ipython3",
   "version": "3.8.5"
  }
 },
 "nbformat": 4,
 "nbformat_minor": 4
}
