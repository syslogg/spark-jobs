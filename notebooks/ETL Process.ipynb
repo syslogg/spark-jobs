{
 "cells": [
  {
   "cell_type": "code",
   "execution_count": 31,
   "metadata": {},
   "outputs": [
    {
     "data": {
      "text/html": [
       "<div>\n",
       "<style scoped>\n",
       "    .dataframe tbody tr th:only-of-type {\n",
       "        vertical-align: middle;\n",
       "    }\n",
       "\n",
       "    .dataframe tbody tr th {\n",
       "        vertical-align: top;\n",
       "    }\n",
       "\n",
       "    .dataframe thead th {\n",
       "        text-align: right;\n",
       "    }\n",
       "</style>\n",
       "<table border=\"1\" class=\"dataframe\">\n",
       "  <thead>\n",
       "    <tr style=\"text-align: right;\">\n",
       "      <th></th>\n",
       "      <th>date</th>\n",
       "      <th>state</th>\n",
       "      <th>city</th>\n",
       "      <th>place_type</th>\n",
       "      <th>confirmed</th>\n",
       "      <th>deaths</th>\n",
       "      <th>order_for_place</th>\n",
       "      <th>is_last</th>\n",
       "      <th>estimated_population_2019</th>\n",
       "      <th>estimated_population</th>\n",
       "      <th>city_ibge_code</th>\n",
       "      <th>confirmed_per_100k_inhabitants</th>\n",
       "      <th>death_rate</th>\n",
       "    </tr>\n",
       "  </thead>\n",
       "  <tbody>\n",
       "    <tr>\n",
       "      <th>0</th>\n",
       "      <td>2020-12-31</td>\n",
       "      <td>AP</td>\n",
       "      <td>NaN</td>\n",
       "      <td>state</td>\n",
       "      <td>68201</td>\n",
       "      <td>925</td>\n",
       "      <td>283</td>\n",
       "      <td>False</td>\n",
       "      <td>845731.0</td>\n",
       "      <td>861773.0</td>\n",
       "      <td>16.0</td>\n",
       "      <td>7914.03305</td>\n",
       "      <td>0.0136</td>\n",
       "    </tr>\n",
       "    <tr>\n",
       "      <th>1</th>\n",
       "      <td>2020-12-30</td>\n",
       "      <td>AP</td>\n",
       "      <td>NaN</td>\n",
       "      <td>state</td>\n",
       "      <td>67702</td>\n",
       "      <td>919</td>\n",
       "      <td>282</td>\n",
       "      <td>False</td>\n",
       "      <td>845731.0</td>\n",
       "      <td>861773.0</td>\n",
       "      <td>16.0</td>\n",
       "      <td>7856.12917</td>\n",
       "      <td>0.0136</td>\n",
       "    </tr>\n",
       "    <tr>\n",
       "      <th>2</th>\n",
       "      <td>2020-12-29</td>\n",
       "      <td>AP</td>\n",
       "      <td>NaN</td>\n",
       "      <td>state</td>\n",
       "      <td>67405</td>\n",
       "      <td>913</td>\n",
       "      <td>281</td>\n",
       "      <td>False</td>\n",
       "      <td>845731.0</td>\n",
       "      <td>861773.0</td>\n",
       "      <td>16.0</td>\n",
       "      <td>7821.66533</td>\n",
       "      <td>0.0135</td>\n",
       "    </tr>\n",
       "    <tr>\n",
       "      <th>3</th>\n",
       "      <td>2020-12-28</td>\n",
       "      <td>AP</td>\n",
       "      <td>NaN</td>\n",
       "      <td>state</td>\n",
       "      <td>67149</td>\n",
       "      <td>907</td>\n",
       "      <td>280</td>\n",
       "      <td>False</td>\n",
       "      <td>845731.0</td>\n",
       "      <td>861773.0</td>\n",
       "      <td>16.0</td>\n",
       "      <td>7791.95914</td>\n",
       "      <td>0.0135</td>\n",
       "    </tr>\n",
       "    <tr>\n",
       "      <th>4</th>\n",
       "      <td>2020-12-27</td>\n",
       "      <td>AP</td>\n",
       "      <td>NaN</td>\n",
       "      <td>state</td>\n",
       "      <td>66724</td>\n",
       "      <td>901</td>\n",
       "      <td>279</td>\n",
       "      <td>False</td>\n",
       "      <td>845731.0</td>\n",
       "      <td>861773.0</td>\n",
       "      <td>16.0</td>\n",
       "      <td>7742.64220</td>\n",
       "      <td>0.0135</td>\n",
       "    </tr>\n",
       "    <tr>\n",
       "      <th>...</th>\n",
       "      <td>...</td>\n",
       "      <td>...</td>\n",
       "      <td>...</td>\n",
       "      <td>...</td>\n",
       "      <td>...</td>\n",
       "      <td>...</td>\n",
       "      <td>...</td>\n",
       "      <td>...</td>\n",
       "      <td>...</td>\n",
       "      <td>...</td>\n",
       "      <td>...</td>\n",
       "      <td>...</td>\n",
       "      <td>...</td>\n",
       "    </tr>\n",
       "    <tr>\n",
       "      <th>1332236</th>\n",
       "      <td>2021-01-08</td>\n",
       "      <td>SP</td>\n",
       "      <td>Óleo</td>\n",
       "      <td>city</td>\n",
       "      <td>6</td>\n",
       "      <td>0</td>\n",
       "      <td>181</td>\n",
       "      <td>False</td>\n",
       "      <td>2496.0</td>\n",
       "      <td>2471.0</td>\n",
       "      <td>3533809.0</td>\n",
       "      <td>242.81667</td>\n",
       "      <td>0.0000</td>\n",
       "    </tr>\n",
       "    <tr>\n",
       "      <th>1332237</th>\n",
       "      <td>2021-01-07</td>\n",
       "      <td>SP</td>\n",
       "      <td>Óleo</td>\n",
       "      <td>city</td>\n",
       "      <td>6</td>\n",
       "      <td>0</td>\n",
       "      <td>180</td>\n",
       "      <td>False</td>\n",
       "      <td>2496.0</td>\n",
       "      <td>2471.0</td>\n",
       "      <td>3533809.0</td>\n",
       "      <td>242.81667</td>\n",
       "      <td>0.0000</td>\n",
       "    </tr>\n",
       "    <tr>\n",
       "      <th>1332238</th>\n",
       "      <td>2021-01-05</td>\n",
       "      <td>SP</td>\n",
       "      <td>Óleo</td>\n",
       "      <td>city</td>\n",
       "      <td>6</td>\n",
       "      <td>0</td>\n",
       "      <td>179</td>\n",
       "      <td>False</td>\n",
       "      <td>2496.0</td>\n",
       "      <td>2471.0</td>\n",
       "      <td>3533809.0</td>\n",
       "      <td>242.81667</td>\n",
       "      <td>0.0000</td>\n",
       "    </tr>\n",
       "    <tr>\n",
       "      <th>1332239</th>\n",
       "      <td>2021-01-04</td>\n",
       "      <td>SP</td>\n",
       "      <td>Óleo</td>\n",
       "      <td>city</td>\n",
       "      <td>6</td>\n",
       "      <td>0</td>\n",
       "      <td>178</td>\n",
       "      <td>False</td>\n",
       "      <td>2496.0</td>\n",
       "      <td>2471.0</td>\n",
       "      <td>3533809.0</td>\n",
       "      <td>242.81667</td>\n",
       "      <td>0.0000</td>\n",
       "    </tr>\n",
       "    <tr>\n",
       "      <th>1332240</th>\n",
       "      <td>2021-01-03</td>\n",
       "      <td>SP</td>\n",
       "      <td>Óleo</td>\n",
       "      <td>city</td>\n",
       "      <td>6</td>\n",
       "      <td>0</td>\n",
       "      <td>177</td>\n",
       "      <td>False</td>\n",
       "      <td>2496.0</td>\n",
       "      <td>2471.0</td>\n",
       "      <td>3533809.0</td>\n",
       "      <td>242.81667</td>\n",
       "      <td>0.0000</td>\n",
       "    </tr>\n",
       "  </tbody>\n",
       "</table>\n",
       "<p>1332241 rows × 13 columns</p>\n",
       "</div>"
      ],
      "text/plain": [
       "               date state  city place_type  confirmed  deaths  \\\n",
       "0        2020-12-31    AP   NaN      state      68201     925   \n",
       "1        2020-12-30    AP   NaN      state      67702     919   \n",
       "2        2020-12-29    AP   NaN      state      67405     913   \n",
       "3        2020-12-28    AP   NaN      state      67149     907   \n",
       "4        2020-12-27    AP   NaN      state      66724     901   \n",
       "...             ...   ...   ...        ...        ...     ...   \n",
       "1332236  2021-01-08    SP  Óleo       city          6       0   \n",
       "1332237  2021-01-07    SP  Óleo       city          6       0   \n",
       "1332238  2021-01-05    SP  Óleo       city          6       0   \n",
       "1332239  2021-01-04    SP  Óleo       city          6       0   \n",
       "1332240  2021-01-03    SP  Óleo       city          6       0   \n",
       "\n",
       "         order_for_place  is_last  estimated_population_2019  \\\n",
       "0                    283    False                   845731.0   \n",
       "1                    282    False                   845731.0   \n",
       "2                    281    False                   845731.0   \n",
       "3                    280    False                   845731.0   \n",
       "4                    279    False                   845731.0   \n",
       "...                  ...      ...                        ...   \n",
       "1332236              181    False                     2496.0   \n",
       "1332237              180    False                     2496.0   \n",
       "1332238              179    False                     2496.0   \n",
       "1332239              178    False                     2496.0   \n",
       "1332240              177    False                     2496.0   \n",
       "\n",
       "         estimated_population  city_ibge_code  confirmed_per_100k_inhabitants  \\\n",
       "0                    861773.0            16.0                      7914.03305   \n",
       "1                    861773.0            16.0                      7856.12917   \n",
       "2                    861773.0            16.0                      7821.66533   \n",
       "3                    861773.0            16.0                      7791.95914   \n",
       "4                    861773.0            16.0                      7742.64220   \n",
       "...                       ...             ...                             ...   \n",
       "1332236                2471.0       3533809.0                       242.81667   \n",
       "1332237                2471.0       3533809.0                       242.81667   \n",
       "1332238                2471.0       3533809.0                       242.81667   \n",
       "1332239                2471.0       3533809.0                       242.81667   \n",
       "1332240                2471.0       3533809.0                       242.81667   \n",
       "\n",
       "         death_rate  \n",
       "0            0.0136  \n",
       "1            0.0136  \n",
       "2            0.0135  \n",
       "3            0.0135  \n",
       "4            0.0135  \n",
       "...             ...  \n",
       "1332236      0.0000  \n",
       "1332237      0.0000  \n",
       "1332238      0.0000  \n",
       "1332239      0.0000  \n",
       "1332240      0.0000  \n",
       "\n",
       "[1332241 rows x 13 columns]"
      ]
     },
     "execution_count": 31,
     "metadata": {},
     "output_type": "execute_result"
    }
   ],
   "source": [
    "# Import findspark \n",
    "import findspark\n",
    "\n",
    "findspark.init()\n",
    "\n",
    "from pyspark.sql import SparkSession\n",
    "from pyspark.sql.functions import col\n",
    "\n",
    "spark = SparkSession.builder.getOrCreate()\n",
    "import pandas as pd\n",
    "pd.read_csv(\"datasources/caso_covid_full.csv\")"
   ]
  },
  {
   "cell_type": "code",
   "execution_count": 50,
   "metadata": {},
   "outputs": [],
   "source": [
    "spark.conf.set(\"spark.sql.shuffle.partitions\", 8)\n",
    "\n",
    "df = spark \\\n",
    "        .read \\\n",
    "        .option(\"header\", \"true\") \\\n",
    "        .option(\"inferSchema\", \"true\") \\\n",
    "        .option(\"sep\", \",\") \\\n",
    "        .csv(\"datasources/caso_covid_full.csv\")"
   ]
  },
  {
   "cell_type": "code",
   "execution_count": 51,
   "metadata": {},
   "outputs": [
    {
     "name": "stdout",
     "output_type": "stream",
     "text": [
      "root\n",
      " |-- date: string (nullable = true)\n",
      " |-- state: string (nullable = true)\n",
      " |-- city: string (nullable = true)\n",
      " |-- place_type: string (nullable = true)\n",
      " |-- confirmed: integer (nullable = true)\n",
      " |-- deaths: integer (nullable = true)\n",
      " |-- order_for_place: integer (nullable = true)\n",
      " |-- is_last: boolean (nullable = true)\n",
      " |-- estimated_population_2019: integer (nullable = true)\n",
      " |-- estimated_population: integer (nullable = true)\n",
      " |-- city_ibge_code: integer (nullable = true)\n",
      " |-- confirmed_per_100k_inhabitants: double (nullable = true)\n",
      " |-- death_rate: double (nullable = true)\n",
      "\n"
     ]
    }
   ],
   "source": [
    "df.printSchema()"
   ]
  },
  {
   "cell_type": "markdown",
   "metadata": {},
   "source": [
    "## Data Preprocessing"
   ]
  },
  {
   "cell_type": "code",
   "execution_count": 52,
   "metadata": {},
   "outputs": [],
   "source": [
    "df = df \\\n",
    "        .filter(df.place_type == \"city\") \\\n",
    "        .drop(\"is_last\", \"estimated_population_2019\", \"order_for_place\")"
   ]
  },
  {
   "cell_type": "markdown",
   "metadata": {},
   "source": [
    "### Write transformed Data"
   ]
  },
  {
   "cell_type": "code",
   "execution_count": 53,
   "metadata": {},
   "outputs": [],
   "source": [
    "df \\\n",
    "    .write \\\n",
    "    .mode(\"overwrite\") \\\n",
    "    .option(\"compression\", \"snappy\") \\\n",
    "    .parquet(\"datasources/casos_covid_preprocess.parquet\")"
   ]
  },
  {
   "cell_type": "code",
   "execution_count": 54,
   "metadata": {},
   "outputs": [
    {
     "name": "stdout",
     "output_type": "stream",
     "text": [
      "Total Records: 1,323,917\n"
     ]
    }
   ],
   "source": [
    "test_df = spark.read.parquet(\"datasources/casos_covid_preprocess.parquet\")\n",
    "print(f\"Total Records: {test_df.count():,}\")"
   ]
  },
  {
   "cell_type": "code",
   "execution_count": 49,
   "metadata": {},
   "outputs": [
    {
     "ename": "NameError",
     "evalue": "name 'dbutils' is not defined",
     "output_type": "error",
     "traceback": [
      "\u001b[1;31m---------------------------------------------------------------------------\u001b[0m",
      "\u001b[1;31mNameError\u001b[0m                                 Traceback (most recent call last)",
      "\u001b[1;32m<ipython-input-49-046d5babfcd4>\u001b[0m in \u001b[0;36m<module>\u001b[1;34m\u001b[0m\n\u001b[1;32m----> 1\u001b[1;33m \u001b[0mdisplay\u001b[0m\u001b[1;33m(\u001b[0m \u001b[0mdbutils\u001b[0m\u001b[1;33m.\u001b[0m\u001b[0mfs\u001b[0m\u001b[1;33m.\u001b[0m\u001b[0mls\u001b[0m\u001b[1;33m(\u001b[0m\u001b[0mdestFile\u001b[0m\u001b[1;33m)\u001b[0m \u001b[1;33m)\u001b[0m\u001b[1;33m\u001b[0m\u001b[1;33m\u001b[0m\u001b[0m\n\u001b[0m",
      "\u001b[1;31mNameError\u001b[0m: name 'dbutils' is not defined"
     ]
    }
   ],
   "source": []
  },
  {
   "cell_type": "markdown",
   "metadata": {},
   "source": [
    "## Create grouping"
   ]
  },
  {
   "cell_type": "code",
   "execution_count": 40,
   "metadata": {},
   "outputs": [
    {
     "data": {
      "text/html": [
       "<div>\n",
       "<style scoped>\n",
       "    .dataframe tbody tr th:only-of-type {\n",
       "        vertical-align: middle;\n",
       "    }\n",
       "\n",
       "    .dataframe tbody tr th {\n",
       "        vertical-align: top;\n",
       "    }\n",
       "\n",
       "    .dataframe thead th {\n",
       "        text-align: right;\n",
       "    }\n",
       "</style>\n",
       "<table border=\"1\" class=\"dataframe\">\n",
       "  <thead>\n",
       "    <tr style=\"text-align: right;\">\n",
       "      <th></th>\n",
       "      <th>state</th>\n",
       "      <th>city</th>\n",
       "      <th>avg(confirmed_per_100k_inhabitants)</th>\n",
       "      <th>sum(confirmed)</th>\n",
       "      <th>sum(deaths)</th>\n",
       "    </tr>\n",
       "  </thead>\n",
       "  <tbody>\n",
       "    <tr>\n",
       "      <th>0</th>\n",
       "      <td>ES</td>\n",
       "      <td>Guaçuí</td>\n",
       "      <td>1159.101704</td>\n",
       "      <td>94152</td>\n",
       "      <td>4605</td>\n",
       "    </tr>\n",
       "    <tr>\n",
       "      <th>1</th>\n",
       "      <td>GO</td>\n",
       "      <td>Damianópolis</td>\n",
       "      <td>413.270474</td>\n",
       "      <td>2309</td>\n",
       "      <td>100</td>\n",
       "    </tr>\n",
       "    <tr>\n",
       "      <th>2</th>\n",
       "      <td>BA</td>\n",
       "      <td>Carinhanha</td>\n",
       "      <td>425.536772</td>\n",
       "      <td>27957</td>\n",
       "      <td>686</td>\n",
       "    </tr>\n",
       "    <tr>\n",
       "      <th>3</th>\n",
       "      <td>BA</td>\n",
       "      <td>Igaporã</td>\n",
       "      <td>235.536014</td>\n",
       "      <td>7446</td>\n",
       "      <td>396</td>\n",
       "    </tr>\n",
       "    <tr>\n",
       "      <th>4</th>\n",
       "      <td>BA</td>\n",
       "      <td>Itaberaba</td>\n",
       "      <td>2333.367218</td>\n",
       "      <td>411801</td>\n",
       "      <td>7531</td>\n",
       "    </tr>\n",
       "    <tr>\n",
       "      <th>...</th>\n",
       "      <td>...</td>\n",
       "      <td>...</td>\n",
       "      <td>...</td>\n",
       "      <td>...</td>\n",
       "      <td>...</td>\n",
       "    </tr>\n",
       "    <tr>\n",
       "      <th>5584</th>\n",
       "      <td>RS</td>\n",
       "      <td>Novo Cabrais</td>\n",
       "      <td>634.995828</td>\n",
       "      <td>4504</td>\n",
       "      <td>0</td>\n",
       "    </tr>\n",
       "    <tr>\n",
       "      <th>5585</th>\n",
       "      <td>TO</td>\n",
       "      <td>Pindorama do Tocantins</td>\n",
       "      <td>782.607853</td>\n",
       "      <td>8078</td>\n",
       "      <td>0</td>\n",
       "    </tr>\n",
       "    <tr>\n",
       "      <th>5586</th>\n",
       "      <td>SP</td>\n",
       "      <td>Guararema</td>\n",
       "      <td>997.742025</td>\n",
       "      <td>77876</td>\n",
       "      <td>4671</td>\n",
       "    </tr>\n",
       "    <tr>\n",
       "      <th>5587</th>\n",
       "      <td>SP</td>\n",
       "      <td>Palestina</td>\n",
       "      <td>738.914440</td>\n",
       "      <td>21042</td>\n",
       "      <td>753</td>\n",
       "    </tr>\n",
       "    <tr>\n",
       "      <th>5588</th>\n",
       "      <td>SP</td>\n",
       "      <td>Piracicaba</td>\n",
       "      <td>1994.876728</td>\n",
       "      <td>2177279</td>\n",
       "      <td>55533</td>\n",
       "    </tr>\n",
       "  </tbody>\n",
       "</table>\n",
       "<p>5589 rows × 5 columns</p>\n",
       "</div>"
      ],
      "text/plain": [
       "     state                    city  avg(confirmed_per_100k_inhabitants)  \\\n",
       "0       ES                  Guaçuí                          1159.101704   \n",
       "1       GO            Damianópolis                           413.270474   \n",
       "2       BA              Carinhanha                           425.536772   \n",
       "3       BA                 Igaporã                           235.536014   \n",
       "4       BA               Itaberaba                          2333.367218   \n",
       "...    ...                     ...                                  ...   \n",
       "5584    RS            Novo Cabrais                           634.995828   \n",
       "5585    TO  Pindorama do Tocantins                           782.607853   \n",
       "5586    SP               Guararema                           997.742025   \n",
       "5587    SP               Palestina                           738.914440   \n",
       "5588    SP              Piracicaba                          1994.876728   \n",
       "\n",
       "      sum(confirmed)  sum(deaths)  \n",
       "0              94152         4605  \n",
       "1               2309          100  \n",
       "2              27957          686  \n",
       "3               7446          396  \n",
       "4             411801         7531  \n",
       "...              ...          ...  \n",
       "5584            4504            0  \n",
       "5585            8078            0  \n",
       "5586           77876         4671  \n",
       "5587           21042          753  \n",
       "5588         2177279        55533  \n",
       "\n",
       "[5589 rows x 5 columns]"
      ]
     },
     "execution_count": 40,
     "metadata": {},
     "output_type": "execute_result"
    }
   ],
   "source": [
    "df \\\n",
    "  .filter(df.place_type == \"city\") \\\n",
    "  .groupBy(\"state\", \"city\") \\\n",
    "  .agg({\"confirmed\": \"sum\", \"deaths\": \"sum\", \"confirmed_per_100k_inhabitants\": \"avg\"}) \\\n",
    "  .toPandas()"
   ]
  },
  {
   "cell_type": "code",
   "execution_count": 41,
   "metadata": {},
   "outputs": [
    {
     "data": {
      "text/plain": [
       "city    1323917\n",
       "Name: place_type, dtype: int64"
      ]
     },
     "execution_count": 41,
     "metadata": {},
     "output_type": "execute_result"
    }
   ],
   "source": [
    "df.toPandas()['place_type'].value_counts()"
   ]
  },
  {
   "cell_type": "code",
   "execution_count": 42,
   "metadata": {},
   "outputs": [
    {
     "data": {
      "text/plain": [
       "Series([], Name: place_type, dtype: int64)"
      ]
     },
     "execution_count": 42,
     "metadata": {},
     "output_type": "execute_result"
    }
   ],
   "source": [
    "df \\\n",
    "  .where(col(\"city\").isNull()).toPandas()[\"place_type\"].value_counts()"
   ]
  },
  {
   "cell_type": "code",
   "execution_count": 43,
   "metadata": {},
   "outputs": [
    {
     "data": {
      "text/plain": [
       "city    1323917\n",
       "Name: place_type, dtype: int64"
      ]
     },
     "execution_count": 43,
     "metadata": {},
     "output_type": "execute_result"
    }
   ],
   "source": [
    "df \\\n",
    "  .where(col(\"city\").isNotNull()).toPandas()[\"place_type\"].value_counts()"
   ]
  },
  {
   "cell_type": "code",
   "execution_count": 44,
   "metadata": {},
   "outputs": [
    {
     "data": {
      "text/plain": [
       "[]"
      ]
     },
     "execution_count": 44,
     "metadata": {},
     "output_type": "execute_result"
    }
   ],
   "source": [
    "df.where(col(\"place_type\") == \"city\").where(col(\"city\").isNull()).collect()"
   ]
  },
  {
   "cell_type": "code",
   "execution_count": null,
   "metadata": {},
   "outputs": [],
   "source": []
  },
  {
   "cell_type": "code",
   "execution_count": null,
   "metadata": {},
   "outputs": [],
   "source": []
  },
  {
   "cell_type": "code",
   "execution_count": null,
   "metadata": {},
   "outputs": [],
   "source": []
  },
  {
   "cell_type": "code",
   "execution_count": null,
   "metadata": {},
   "outputs": [],
   "source": []
  },
  {
   "cell_type": "code",
   "execution_count": null,
   "metadata": {},
   "outputs": [],
   "source": []
  },
  {
   "cell_type": "code",
   "execution_count": null,
   "metadata": {},
   "outputs": [],
   "source": []
  },
  {
   "cell_type": "code",
   "execution_count": null,
   "metadata": {},
   "outputs": [],
   "source": []
  },
  {
   "cell_type": "code",
   "execution_count": null,
   "metadata": {},
   "outputs": [],
   "source": []
  }
 ],
 "metadata": {
  "kernelspec": {
   "display_name": "Python 3",
   "language": "python",
   "name": "python3"
  },
  "language_info": {
   "codemirror_mode": {
    "name": "ipython",
    "version": 3
   },
   "file_extension": ".py",
   "mimetype": "text/x-python",
   "name": "python",
   "nbconvert_exporter": "python",
   "pygments_lexer": "ipython3",
   "version": "3.8.5"
  }
 },
 "nbformat": 4,
 "nbformat_minor": 4
}
